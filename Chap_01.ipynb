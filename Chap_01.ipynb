{
 "metadata": {
  "language_info": {
   "codemirror_mode": {
    "name": "ipython",
    "version": 3
   },
   "file_extension": ".py",
   "mimetype": "text/x-python",
   "name": "python",
   "nbconvert_exporter": "python",
   "pygments_lexer": "ipython3",
   "version": "3.9.5"
  },
  "orig_nbformat": 2,
  "kernelspec": {
   "name": "python395jvsc74a57bd09237c0ff3996b7a1f9620e801b4208c31c74178ba4767f8e56d04f4c28783ebd",
   "display_name": "Python 3.9.5 64-bit ('vnev': venv)"
  }
 },
 "nbformat": 4,
 "nbformat_minor": 2,
 "cells": [
  {
   "source": [
    "# 제 1고지 미분 자동 계산"
   ],
   "cell_type": "markdown",
   "metadata": {}
  },
  {
   "cell_type": "code",
   "execution_count": 2,
   "metadata": {},
   "outputs": [],
   "source": [
    "import numpy as np "
   ]
  },
  {
   "source": [
    "# Step_1 : 변수\n",
    "class Variable:\n",
    "    def __init__(self, data):\n",
    "        self.data = data"
   ],
   "cell_type": "code",
   "metadata": {},
   "execution_count": 3,
   "outputs": []
  },
  {
   "cell_type": "code",
   "execution_count": 5,
   "metadata": {},
   "outputs": [
    {
     "output_type": "stream",
     "name": "stdout",
     "text": [
      "1.0\n"
     ]
    }
   ],
   "source": [
    "# x 는 데이터 자체가 아니라 데이터를 담는 상자다. \n",
    "data = np.array(1.0)\n",
    "x = Variable(data)\n",
    "print(x.data)"
   ]
  },
  {
   "cell_type": "code",
   "execution_count": 6,
   "metadata": {},
   "outputs": [
    {
     "output_type": "stream",
     "name": "stdout",
     "text": [
      "2.0\n"
     ]
    }
   ],
   "source": [
    "x.data = np.array(2.0)\n",
    "print(x.data)"
   ]
  },
  {
   "cell_type": "code",
   "execution_count": 7,
   "metadata": {},
   "outputs": [],
   "source": [
    "# Step_2 : 함수 \n",
    "# 함수란? : x -> f(x) -> y\n",
    "# Function 클래스는 Variable 인스턴스를 입력받아 Variable 인스턴스를 출력\n",
    "# Variable 인스턴스의 실제 데이터는 변수인 data에 있다.abs\n",
    "\n",
    "class Function : \n",
    "    def __call__(self, input) :\n",
    "        x = input.data\n",
    "        y = x**2\n",
    "        output = Variable(y)\n",
    "        return output"
   ]
  },
  {
   "cell_type": "code",
   "execution_count": 8,
   "metadata": {},
   "outputs": [
    {
     "output_type": "stream",
     "name": "stdout",
     "text": [
      "<class '__main__.Variable'>\n100\n"
     ]
    }
   ],
   "source": [
    "x = Variable(np.array(10))\n",
    "f = Function()\n",
    "y = f(x)\n",
    "\n",
    "print(type(y))\n",
    "print(y.data)"
   ]
  },
  {
   "cell_type": "code",
   "execution_count": 10,
   "metadata": {},
   "outputs": [],
   "source": [
    "# Function 클래스는 기반 클래스로 모든 함수에 공통되는 기능을 구현하기 위해서\n",
    "# 구체적인 함수는 Function 클래스를 상속한 클래스에서 구현하기 위해 수정\n",
    "class Function : \n",
    "    def __call__(self, input) :\n",
    "        x = input.data\n",
    "        y = self.forward(x) ## 구체적인 계산은 forward 매서드에서 한다\n",
    "        output = Variable(y)\n",
    "        return output\n",
    "\n",
    "    def forward(self, x):\n",
    "        ## forward 메서드를 직접 호출하면 상속하여 구현해야 한다는 오류를 알려줌 \n",
    "        raise NotImplementedError() "
   ]
  },
  {
   "cell_type": "code",
   "execution_count": 11,
   "metadata": {},
   "outputs": [],
   "source": [
    "class Square(Function):\n",
    "    def forward(self, x):\n",
    "        return x ** 2"
   ]
  },
  {
   "cell_type": "code",
   "execution_count": 14,
   "metadata": {},
   "outputs": [
    {
     "output_type": "stream",
     "name": "stdout",
     "text": [
      "<class '__main__.Variable'>\n100\n"
     ]
    }
   ],
   "source": [
    "x = Variable(np.array(10))\n",
    "f = Square()\n",
    "y = f(x)\n",
    "\n",
    "print(type(y))\n",
    "print(y.data)"
   ]
  },
  {
   "cell_type": "code",
   "execution_count": 15,
   "metadata": {},
   "outputs": [],
   "source": [
    "# Step_3 : 함수 연결\n",
    "# y = exp(x) 의 구현\n",
    "\n",
    "class Exp(Function):\n",
    "    def forward(self, x):\n",
    "        return np.exp(x)"
   ]
  },
  {
   "cell_type": "code",
   "execution_count": 18,
   "metadata": {},
   "outputs": [
    {
     "output_type": "stream",
     "name": "stdout",
     "text": [
      "1.648721270700128\n"
     ]
    }
   ],
   "source": [
    "A = Square()\n",
    "B = Exp()\n",
    "C = Square()\n",
    "\n",
    "x = Variable(np.array(0.5))\n",
    "a = A(x)\n",
    "b = B(a)\n",
    "c = C(b)\n",
    "print(c.data)"
   ]
  },
  {
   "cell_type": "code",
   "execution_count": 19,
   "metadata": {},
   "outputs": [],
   "source": [
    "# Step_4 : 수치 미분 \n",
    "# 미분이란? : 변화율 \n",
    "# ex) 물체의 시간에 따른 위치 변화 = 속도\n",
    "# ex) 시간에 대한 속도 변화율 = 가속도 \n",
    "# 정확한 정의 : 극한으로 짧은 시간에서의 변화량 \n",
    "# f(x)' = lim((f(x+h)-f(x)) / h)  : h->0 "
   ]
  },
  {
   "cell_type": "code",
   "execution_count": 22,
   "metadata": {},
   "outputs": [],
   "source": [
    "# 미분을 계산하는 코드 구현 \n",
    "# 컴퓨터는 극한을 취급할 수 없으니 h를 최대한 작은 값을 이용하여 계산 \n",
    "# 함수의 변화량을 구하는 방법 : 수치 미분 (numerical differentiation) \n",
    "\n",
    "# 1e-4 : 0.0001 \n",
    "def numerical_diff(f, x, eps = 1e-4):\n",
    "    x0 = Variable(x.data - eps)\n",
    "    x1 = Variable(x.data + eps)\n",
    "    y0 = f(x0)\n",
    "    y1 = f(x1)\n",
    "    return (y1.data - y0.data) / (2*eps)"
   ]
  },
  {
   "cell_type": "code",
   "execution_count": 23,
   "metadata": {},
   "outputs": [
    {
     "output_type": "stream",
     "name": "stdout",
     "text": [
      "4.000000000004\n"
     ]
    }
   ],
   "source": [
    "# y= x**2 에서 x = 2.0 일 때 미분한 결과 \n",
    "# 4.0 이지만 오차가 발생 // 극한을 표현 할 수 없기 때문 \n",
    "f = Square()\n",
    "x = Variable(np.array(2.0))\n",
    "dy = numerical_diff(f, x)\n",
    "print(dy)"
   ]
  },
  {
   "cell_type": "code",
   "execution_count": 24,
   "metadata": {},
   "outputs": [
    {
     "output_type": "stream",
     "name": "stdout",
     "text": [
      "3.2974426293330694\n"
     ]
    }
   ],
   "source": [
    "# 합성 함수 미분 \n",
    "def f(x):\n",
    "    A = Square()\n",
    "    B = Exp()\n",
    "    C = Square()\n",
    "    return C(B(A(x)))\n",
    "\n",
    "x = Variable(np.array(0.5))\n",
    "dy = numerical_diff(f, x)\n",
    "\n",
    "print(dy)"
   ]
  },
  {
   "cell_type": "code",
   "execution_count": null,
   "metadata": {},
   "outputs": [],
   "source": [
    "# Step_5 : 역전파 이론 \n",
    "# 수치 미분에는 한계가 있다 -> why?\n",
    "# 오차가 존재하기 때문 -> 왜 오차가 존재 하는가? \n",
    "# 자릿수 누락의 문제가 크다 -> 이를 해결하기 위해 역전파를 씀 \n",
    "\n"
   ]
  }
 ]
}